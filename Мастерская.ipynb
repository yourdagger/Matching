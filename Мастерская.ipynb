{
 "cells": [
  {
   "cell_type": "code",
   "execution_count": 1,
   "id": "e146cb53",
   "metadata": {},
   "outputs": [],
   "source": [
    "#pip install faiss-cpu"
   ]
  },
  {
   "cell_type": "code",
   "execution_count": 2,
   "id": "cbce44ea",
   "metadata": {},
   "outputs": [],
   "source": [
    "#pip install feature_engine"
   ]
  },
  {
   "cell_type": "markdown",
   "id": "78825672",
   "metadata": {},
   "source": [
    "# Поиск наиболее похожего товара по набору признаков"
   ]
  },
  {
   "cell_type": "markdown",
   "id": "b8a128d2",
   "metadata": {},
   "source": [
    "В этом проекте мы решаем задачу метчинга товаров. Мы хотим разработать модель, которая рекомендовала бы пользователю маркетплейса наиболее похожий товар на тот, который он просматривает. У нас есть база данных со всеми товарами (base) и выборка train где каждому товару соответствует один наиболее подходящий товар из base. Попробуем сначала найти для каждого товара набор ближайших соседей с помощью библиотеки Faiss, а затем отранжировать получившийся набор по степени похожести с помощью классификации. Целевой метрикой сделаем accuracy@5 - т.е. в какой доле случаев один из 5 товаров, которые получим в результате ранжирования, окажется наиболее похожим. "
   ]
  },
  {
   "cell_type": "code",
   "execution_count": 3,
   "id": "1daa58a0",
   "metadata": {},
   "outputs": [],
   "source": [
    "import faiss\n",
    "import numpy as np\n",
    "import pandas as pd\n",
    "from sklearn.pipeline import Pipeline\n",
    "from sklearn.base import BaseEstimator, TransformerMixin\n",
    "from sklearn.preprocessing import StandardScaler \n",
    "from sklearn.preprocessing import RobustScaler \n",
    "from sklearn.preprocessing import Normalizer, QuantileTransformer\n",
    "\n",
    "\n",
    "from sklearn.metrics import f1_score\n",
    "from sklearn.metrics import roc_auc_score\n",
    "from sklearn.metrics import recall_score\n",
    "from sklearn.metrics import precision_score\n",
    "\n",
    "from catboost import CatBoostClassifier"
   ]
  },
  {
   "cell_type": "markdown",
   "id": "03c6ab58",
   "metadata": {},
   "source": [
    "Загружаем данные и смотрим на их формат"
   ]
  },
  {
   "cell_type": "code",
   "execution_count": 46,
   "id": "495a3bad",
   "metadata": {
    "scrolled": true
   },
   "outputs": [
    {
     "data": {
      "text/html": [
       "<div>\n",
       "<style scoped>\n",
       "    .dataframe tbody tr th:only-of-type {\n",
       "        vertical-align: middle;\n",
       "    }\n",
       "\n",
       "    .dataframe tbody tr th {\n",
       "        vertical-align: top;\n",
       "    }\n",
       "\n",
       "    .dataframe thead th {\n",
       "        text-align: right;\n",
       "    }\n",
       "</style>\n",
       "<table border=\"1\" class=\"dataframe\">\n",
       "  <thead>\n",
       "    <tr style=\"text-align: right;\">\n",
       "      <th></th>\n",
       "      <th>0</th>\n",
       "      <th>1</th>\n",
       "      <th>2</th>\n",
       "      <th>3</th>\n",
       "      <th>4</th>\n",
       "      <th>5</th>\n",
       "      <th>6</th>\n",
       "      <th>7</th>\n",
       "      <th>8</th>\n",
       "      <th>9</th>\n",
       "      <th>...</th>\n",
       "      <th>62</th>\n",
       "      <th>63</th>\n",
       "      <th>64</th>\n",
       "      <th>65</th>\n",
       "      <th>66</th>\n",
       "      <th>67</th>\n",
       "      <th>68</th>\n",
       "      <th>69</th>\n",
       "      <th>70</th>\n",
       "      <th>71</th>\n",
       "    </tr>\n",
       "    <tr>\n",
       "      <th>Id</th>\n",
       "      <th></th>\n",
       "      <th></th>\n",
       "      <th></th>\n",
       "      <th></th>\n",
       "      <th></th>\n",
       "      <th></th>\n",
       "      <th></th>\n",
       "      <th></th>\n",
       "      <th></th>\n",
       "      <th></th>\n",
       "      <th></th>\n",
       "      <th></th>\n",
       "      <th></th>\n",
       "      <th></th>\n",
       "      <th></th>\n",
       "      <th></th>\n",
       "      <th></th>\n",
       "      <th></th>\n",
       "      <th></th>\n",
       "      <th></th>\n",
       "      <th></th>\n",
       "    </tr>\n",
       "  </thead>\n",
       "  <tbody>\n",
       "    <tr>\n",
       "      <th>0-base</th>\n",
       "      <td>-115.083890</td>\n",
       "      <td>11.152912</td>\n",
       "      <td>-64.426760</td>\n",
       "      <td>-118.88089</td>\n",
       "      <td>216.482440</td>\n",
       "      <td>-104.698060</td>\n",
       "      <td>-469.070588</td>\n",
       "      <td>44.348083</td>\n",
       "      <td>120.915344</td>\n",
       "      <td>181.449700</td>\n",
       "      <td>...</td>\n",
       "      <td>-42.808693</td>\n",
       "      <td>38.800827</td>\n",
       "      <td>-151.76218</td>\n",
       "      <td>-74.389090</td>\n",
       "      <td>63.66634</td>\n",
       "      <td>-4.703861</td>\n",
       "      <td>92.933610</td>\n",
       "      <td>115.269190</td>\n",
       "      <td>-112.756640</td>\n",
       "      <td>-60.830353</td>\n",
       "    </tr>\n",
       "    <tr>\n",
       "      <th>1-base</th>\n",
       "      <td>-34.562202</td>\n",
       "      <td>13.332763</td>\n",
       "      <td>-69.787610</td>\n",
       "      <td>-166.53348</td>\n",
       "      <td>57.680607</td>\n",
       "      <td>-86.098370</td>\n",
       "      <td>-85.076666</td>\n",
       "      <td>-35.637436</td>\n",
       "      <td>119.718636</td>\n",
       "      <td>195.234190</td>\n",
       "      <td>...</td>\n",
       "      <td>-117.767525</td>\n",
       "      <td>41.100000</td>\n",
       "      <td>-157.82940</td>\n",
       "      <td>-94.446806</td>\n",
       "      <td>68.20211</td>\n",
       "      <td>24.346846</td>\n",
       "      <td>179.937930</td>\n",
       "      <td>116.834000</td>\n",
       "      <td>-84.888941</td>\n",
       "      <td>-59.524610</td>\n",
       "    </tr>\n",
       "    <tr>\n",
       "      <th>2-base</th>\n",
       "      <td>-54.233746</td>\n",
       "      <td>6.379371</td>\n",
       "      <td>-29.210136</td>\n",
       "      <td>-133.41383</td>\n",
       "      <td>150.895830</td>\n",
       "      <td>-99.435326</td>\n",
       "      <td>52.554795</td>\n",
       "      <td>62.381706</td>\n",
       "      <td>128.951450</td>\n",
       "      <td>164.381470</td>\n",
       "      <td>...</td>\n",
       "      <td>-76.397800</td>\n",
       "      <td>46.011803</td>\n",
       "      <td>-207.14442</td>\n",
       "      <td>127.325570</td>\n",
       "      <td>65.56618</td>\n",
       "      <td>66.325680</td>\n",
       "      <td>81.073490</td>\n",
       "      <td>116.594154</td>\n",
       "      <td>-1074.464888</td>\n",
       "      <td>-32.527206</td>\n",
       "    </tr>\n",
       "    <tr>\n",
       "      <th>3-base</th>\n",
       "      <td>-87.520130</td>\n",
       "      <td>4.037884</td>\n",
       "      <td>-87.803030</td>\n",
       "      <td>-185.06763</td>\n",
       "      <td>76.369540</td>\n",
       "      <td>-58.985165</td>\n",
       "      <td>-383.182845</td>\n",
       "      <td>-33.611237</td>\n",
       "      <td>122.031910</td>\n",
       "      <td>136.233580</td>\n",
       "      <td>...</td>\n",
       "      <td>-70.647940</td>\n",
       "      <td>-6.358921</td>\n",
       "      <td>-147.20105</td>\n",
       "      <td>-37.692750</td>\n",
       "      <td>66.20289</td>\n",
       "      <td>-20.566910</td>\n",
       "      <td>137.206940</td>\n",
       "      <td>117.474100</td>\n",
       "      <td>-1074.464888</td>\n",
       "      <td>-72.915490</td>\n",
       "    </tr>\n",
       "    <tr>\n",
       "      <th>4-base</th>\n",
       "      <td>-72.743850</td>\n",
       "      <td>6.522049</td>\n",
       "      <td>43.671265</td>\n",
       "      <td>-140.60803</td>\n",
       "      <td>5.820023</td>\n",
       "      <td>-112.074080</td>\n",
       "      <td>-397.711282</td>\n",
       "      <td>45.182500</td>\n",
       "      <td>122.167180</td>\n",
       "      <td>112.119064</td>\n",
       "      <td>...</td>\n",
       "      <td>-57.199104</td>\n",
       "      <td>56.642403</td>\n",
       "      <td>-159.35184</td>\n",
       "      <td>85.944724</td>\n",
       "      <td>66.76632</td>\n",
       "      <td>-2.505783</td>\n",
       "      <td>65.315285</td>\n",
       "      <td>135.051590</td>\n",
       "      <td>-1074.464888</td>\n",
       "      <td>0.319401</td>\n",
       "    </tr>\n",
       "  </tbody>\n",
       "</table>\n",
       "<p>5 rows × 72 columns</p>\n",
       "</div>"
      ],
      "text/plain": [
       "                 0          1          2          3           4           5  \\\n",
       "Id                                                                            \n",
       "0-base -115.083890  11.152912 -64.426760 -118.88089  216.482440 -104.698060   \n",
       "1-base  -34.562202  13.332763 -69.787610 -166.53348   57.680607  -86.098370   \n",
       "2-base  -54.233746   6.379371 -29.210136 -133.41383  150.895830  -99.435326   \n",
       "3-base  -87.520130   4.037884 -87.803030 -185.06763   76.369540  -58.985165   \n",
       "4-base  -72.743850   6.522049  43.671265 -140.60803    5.820023 -112.074080   \n",
       "\n",
       "                 6          7           8           9  ...          62  \\\n",
       "Id                                                     ...               \n",
       "0-base -469.070588  44.348083  120.915344  181.449700  ...  -42.808693   \n",
       "1-base  -85.076666 -35.637436  119.718636  195.234190  ... -117.767525   \n",
       "2-base   52.554795  62.381706  128.951450  164.381470  ...  -76.397800   \n",
       "3-base -383.182845 -33.611237  122.031910  136.233580  ...  -70.647940   \n",
       "4-base -397.711282  45.182500  122.167180  112.119064  ...  -57.199104   \n",
       "\n",
       "               63         64          65        66         67          68  \\\n",
       "Id                                                                          \n",
       "0-base  38.800827 -151.76218  -74.389090  63.66634  -4.703861   92.933610   \n",
       "1-base  41.100000 -157.82940  -94.446806  68.20211  24.346846  179.937930   \n",
       "2-base  46.011803 -207.14442  127.325570  65.56618  66.325680   81.073490   \n",
       "3-base  -6.358921 -147.20105  -37.692750  66.20289 -20.566910  137.206940   \n",
       "4-base  56.642403 -159.35184   85.944724  66.76632  -2.505783   65.315285   \n",
       "\n",
       "                69           70         71  \n",
       "Id                                          \n",
       "0-base  115.269190  -112.756640 -60.830353  \n",
       "1-base  116.834000   -84.888941 -59.524610  \n",
       "2-base  116.594154 -1074.464888 -32.527206  \n",
       "3-base  117.474100 -1074.464888 -72.915490  \n",
       "4-base  135.051590 -1074.464888   0.319401  \n",
       "\n",
       "[5 rows x 72 columns]"
      ]
     },
     "execution_count": 46,
     "metadata": {},
     "output_type": "execute_result"
    }
   ],
   "source": [
    "base = pd.read_csv('./base.csv', index_col=0)\n",
    "train = pd.read_csv('./train.csv', index_col=0)\n",
    "validation = pd.read_csv('./validation.csv', index_col=0)\n",
    "validation_answer = pd.read_csv('./validation_answer.csv')\n",
    "base.head()"
   ]
  },
  {
   "cell_type": "code",
   "execution_count": 5,
   "id": "0c6ef4d8",
   "metadata": {},
   "outputs": [
    {
     "data": {
      "text/html": [
       "<div>\n",
       "<style scoped>\n",
       "    .dataframe tbody tr th:only-of-type {\n",
       "        vertical-align: middle;\n",
       "    }\n",
       "\n",
       "    .dataframe tbody tr th {\n",
       "        vertical-align: top;\n",
       "    }\n",
       "\n",
       "    .dataframe thead th {\n",
       "        text-align: right;\n",
       "    }\n",
       "</style>\n",
       "<table border=\"1\" class=\"dataframe\">\n",
       "  <thead>\n",
       "    <tr style=\"text-align: right;\">\n",
       "      <th></th>\n",
       "      <th>0</th>\n",
       "      <th>1</th>\n",
       "      <th>2</th>\n",
       "      <th>3</th>\n",
       "      <th>4</th>\n",
       "      <th>5</th>\n",
       "      <th>6</th>\n",
       "      <th>7</th>\n",
       "      <th>8</th>\n",
       "      <th>9</th>\n",
       "      <th>...</th>\n",
       "      <th>63</th>\n",
       "      <th>64</th>\n",
       "      <th>65</th>\n",
       "      <th>66</th>\n",
       "      <th>67</th>\n",
       "      <th>68</th>\n",
       "      <th>69</th>\n",
       "      <th>70</th>\n",
       "      <th>71</th>\n",
       "      <th>Target</th>\n",
       "    </tr>\n",
       "    <tr>\n",
       "      <th>Id</th>\n",
       "      <th></th>\n",
       "      <th></th>\n",
       "      <th></th>\n",
       "      <th></th>\n",
       "      <th></th>\n",
       "      <th></th>\n",
       "      <th></th>\n",
       "      <th></th>\n",
       "      <th></th>\n",
       "      <th></th>\n",
       "      <th></th>\n",
       "      <th></th>\n",
       "      <th></th>\n",
       "      <th></th>\n",
       "      <th></th>\n",
       "      <th></th>\n",
       "      <th></th>\n",
       "      <th></th>\n",
       "      <th></th>\n",
       "      <th></th>\n",
       "      <th></th>\n",
       "    </tr>\n",
       "  </thead>\n",
       "  <tbody>\n",
       "    <tr>\n",
       "      <th>0-query</th>\n",
       "      <td>-53.882748</td>\n",
       "      <td>17.971436</td>\n",
       "      <td>-42.117104</td>\n",
       "      <td>-183.93668</td>\n",
       "      <td>187.517490</td>\n",
       "      <td>-87.144930</td>\n",
       "      <td>-347.360606</td>\n",
       "      <td>38.307602</td>\n",
       "      <td>109.085560</td>\n",
       "      <td>30.413513</td>\n",
       "      <td>...</td>\n",
       "      <td>70.107360</td>\n",
       "      <td>-155.80257</td>\n",
       "      <td>-101.965943</td>\n",
       "      <td>65.903790</td>\n",
       "      <td>34.457500</td>\n",
       "      <td>62.642094</td>\n",
       "      <td>134.763600</td>\n",
       "      <td>-415.750254</td>\n",
       "      <td>-25.958572</td>\n",
       "      <td>675816-base</td>\n",
       "    </tr>\n",
       "    <tr>\n",
       "      <th>1-query</th>\n",
       "      <td>-87.776370</td>\n",
       "      <td>6.806268</td>\n",
       "      <td>-32.054546</td>\n",
       "      <td>-177.26039</td>\n",
       "      <td>120.803330</td>\n",
       "      <td>-83.810590</td>\n",
       "      <td>-94.572749</td>\n",
       "      <td>-78.433090</td>\n",
       "      <td>124.915900</td>\n",
       "      <td>140.331070</td>\n",
       "      <td>...</td>\n",
       "      <td>4.669178</td>\n",
       "      <td>-151.69771</td>\n",
       "      <td>-1.638704</td>\n",
       "      <td>68.170876</td>\n",
       "      <td>25.096191</td>\n",
       "      <td>89.974976</td>\n",
       "      <td>130.589630</td>\n",
       "      <td>-1035.092211</td>\n",
       "      <td>-51.276833</td>\n",
       "      <td>366656-base</td>\n",
       "    </tr>\n",
       "    <tr>\n",
       "      <th>2-query</th>\n",
       "      <td>-49.979565</td>\n",
       "      <td>3.841486</td>\n",
       "      <td>-116.118590</td>\n",
       "      <td>-180.40198</td>\n",
       "      <td>190.128430</td>\n",
       "      <td>-50.837620</td>\n",
       "      <td>26.943937</td>\n",
       "      <td>-30.447489</td>\n",
       "      <td>125.771164</td>\n",
       "      <td>211.607820</td>\n",
       "      <td>...</td>\n",
       "      <td>78.039764</td>\n",
       "      <td>-169.14620</td>\n",
       "      <td>82.144186</td>\n",
       "      <td>66.008220</td>\n",
       "      <td>18.400496</td>\n",
       "      <td>212.409730</td>\n",
       "      <td>121.931470</td>\n",
       "      <td>-1074.464888</td>\n",
       "      <td>-22.547178</td>\n",
       "      <td>1447819-base</td>\n",
       "    </tr>\n",
       "    <tr>\n",
       "      <th>3-query</th>\n",
       "      <td>-47.810562</td>\n",
       "      <td>9.086598</td>\n",
       "      <td>-115.401695</td>\n",
       "      <td>-121.01136</td>\n",
       "      <td>94.652840</td>\n",
       "      <td>-109.255410</td>\n",
       "      <td>-775.150134</td>\n",
       "      <td>79.186520</td>\n",
       "      <td>124.003100</td>\n",
       "      <td>242.650650</td>\n",
       "      <td>...</td>\n",
       "      <td>44.515266</td>\n",
       "      <td>-145.41675</td>\n",
       "      <td>93.990981</td>\n",
       "      <td>64.131350</td>\n",
       "      <td>106.061920</td>\n",
       "      <td>83.178760</td>\n",
       "      <td>118.277725</td>\n",
       "      <td>-1074.464888</td>\n",
       "      <td>-19.902788</td>\n",
       "      <td>1472602-base</td>\n",
       "    </tr>\n",
       "    <tr>\n",
       "      <th>4-query</th>\n",
       "      <td>-79.632126</td>\n",
       "      <td>14.442886</td>\n",
       "      <td>-58.903397</td>\n",
       "      <td>-147.05254</td>\n",
       "      <td>57.127068</td>\n",
       "      <td>-16.239529</td>\n",
       "      <td>-321.317964</td>\n",
       "      <td>45.984676</td>\n",
       "      <td>125.941284</td>\n",
       "      <td>103.392670</td>\n",
       "      <td>...</td>\n",
       "      <td>45.028910</td>\n",
       "      <td>-196.09207</td>\n",
       "      <td>-117.626337</td>\n",
       "      <td>66.926220</td>\n",
       "      <td>42.456170</td>\n",
       "      <td>77.621765</td>\n",
       "      <td>92.479930</td>\n",
       "      <td>-1074.464888</td>\n",
       "      <td>-21.149351</td>\n",
       "      <td>717819-base</td>\n",
       "    </tr>\n",
       "  </tbody>\n",
       "</table>\n",
       "<p>5 rows × 73 columns</p>\n",
       "</div>"
      ],
      "text/plain": [
       "                 0          1           2          3           4           5  \\\n",
       "Id                                                                             \n",
       "0-query -53.882748  17.971436  -42.117104 -183.93668  187.517490  -87.144930   \n",
       "1-query -87.776370   6.806268  -32.054546 -177.26039  120.803330  -83.810590   \n",
       "2-query -49.979565   3.841486 -116.118590 -180.40198  190.128430  -50.837620   \n",
       "3-query -47.810562   9.086598 -115.401695 -121.01136   94.652840 -109.255410   \n",
       "4-query -79.632126  14.442886  -58.903397 -147.05254   57.127068  -16.239529   \n",
       "\n",
       "                  6          7           8           9  ...         63  \\\n",
       "Id                                                      ...              \n",
       "0-query -347.360606  38.307602  109.085560   30.413513  ...  70.107360   \n",
       "1-query  -94.572749 -78.433090  124.915900  140.331070  ...   4.669178   \n",
       "2-query   26.943937 -30.447489  125.771164  211.607820  ...  78.039764   \n",
       "3-query -775.150134  79.186520  124.003100  242.650650  ...  44.515266   \n",
       "4-query -321.317964  45.984676  125.941284  103.392670  ...  45.028910   \n",
       "\n",
       "                64          65         66          67          68          69  \\\n",
       "Id                                                                              \n",
       "0-query -155.80257 -101.965943  65.903790   34.457500   62.642094  134.763600   \n",
       "1-query -151.69771   -1.638704  68.170876   25.096191   89.974976  130.589630   \n",
       "2-query -169.14620   82.144186  66.008220   18.400496  212.409730  121.931470   \n",
       "3-query -145.41675   93.990981  64.131350  106.061920   83.178760  118.277725   \n",
       "4-query -196.09207 -117.626337  66.926220   42.456170   77.621765   92.479930   \n",
       "\n",
       "                  70         71        Target  \n",
       "Id                                             \n",
       "0-query  -415.750254 -25.958572   675816-base  \n",
       "1-query -1035.092211 -51.276833   366656-base  \n",
       "2-query -1074.464888 -22.547178  1447819-base  \n",
       "3-query -1074.464888 -19.902788  1472602-base  \n",
       "4-query -1074.464888 -21.149351   717819-base  \n",
       "\n",
       "[5 rows x 73 columns]"
      ]
     },
     "execution_count": 5,
     "metadata": {},
     "output_type": "execute_result"
    }
   ],
   "source": [
    "train.head()"
   ]
  },
  {
   "cell_type": "code",
   "execution_count": 6,
   "id": "bc784d6c",
   "metadata": {},
   "outputs": [
    {
     "data": {
      "text/plain": [
       "(2918139, 72)"
      ]
     },
     "execution_count": 6,
     "metadata": {},
     "output_type": "execute_result"
    }
   ],
   "source": [
    "base.shape"
   ]
  },
  {
   "cell_type": "code",
   "execution_count": 7,
   "id": "153892ce",
   "metadata": {},
   "outputs": [
    {
     "data": {
      "text/plain": [
       "(100000, 73)"
      ]
     },
     "execution_count": 7,
     "metadata": {},
     "output_type": "execute_result"
    }
   ],
   "source": [
    "train.shape"
   ]
  },
  {
   "cell_type": "code",
   "execution_count": 8,
   "id": "b06461cc",
   "metadata": {},
   "outputs": [
    {
     "data": {
      "text/plain": [
       "(100000, 72)"
      ]
     },
     "execution_count": 8,
     "metadata": {},
     "output_type": "execute_result"
    }
   ],
   "source": [
    "validation.shape"
   ]
  },
  {
   "cell_type": "code",
   "execution_count": 9,
   "id": "8f6b3e87",
   "metadata": {
    "scrolled": true
   },
   "outputs": [
    {
     "name": "stdout",
     "output_type": "stream",
     "text": [
      "<class 'pandas.core.frame.DataFrame'>\n",
      "Index: 2918139 entries, 0-base to 4744766-base\n",
      "Data columns (total 72 columns):\n",
      " #   Column  Dtype  \n",
      "---  ------  -----  \n",
      " 0   0       float64\n",
      " 1   1       float64\n",
      " 2   2       float64\n",
      " 3   3       float64\n",
      " 4   4       float64\n",
      " 5   5       float64\n",
      " 6   6       float64\n",
      " 7   7       float64\n",
      " 8   8       float64\n",
      " 9   9       float64\n",
      " 10  10      float64\n",
      " 11  11      float64\n",
      " 12  12      float64\n",
      " 13  13      float64\n",
      " 14  14      float64\n",
      " 15  15      float64\n",
      " 16  16      float64\n",
      " 17  17      float64\n",
      " 18  18      float64\n",
      " 19  19      float64\n",
      " 20  20      float64\n",
      " 21  21      float64\n",
      " 22  22      float64\n",
      " 23  23      float64\n",
      " 24  24      float64\n",
      " 25  25      float64\n",
      " 26  26      float64\n",
      " 27  27      float64\n",
      " 28  28      float64\n",
      " 29  29      float64\n",
      " 30  30      float64\n",
      " 31  31      float64\n",
      " 32  32      float64\n",
      " 33  33      float64\n",
      " 34  34      float64\n",
      " 35  35      float64\n",
      " 36  36      float64\n",
      " 37  37      float64\n",
      " 38  38      float64\n",
      " 39  39      float64\n",
      " 40  40      float64\n",
      " 41  41      float64\n",
      " 42  42      float64\n",
      " 43  43      float64\n",
      " 44  44      float64\n",
      " 45  45      float64\n",
      " 46  46      float64\n",
      " 47  47      float64\n",
      " 48  48      float64\n",
      " 49  49      float64\n",
      " 50  50      float64\n",
      " 51  51      float64\n",
      " 52  52      float64\n",
      " 53  53      float64\n",
      " 54  54      float64\n",
      " 55  55      float64\n",
      " 56  56      float64\n",
      " 57  57      float64\n",
      " 58  58      float64\n",
      " 59  59      float64\n",
      " 60  60      float64\n",
      " 61  61      float64\n",
      " 62  62      float64\n",
      " 63  63      float64\n",
      " 64  64      float64\n",
      " 65  65      float64\n",
      " 66  66      float64\n",
      " 67  67      float64\n",
      " 68  68      float64\n",
      " 69  69      float64\n",
      " 70  70      float64\n",
      " 71  71      float64\n",
      "dtypes: float64(72)\n",
      "memory usage: 1.6+ GB\n"
     ]
    }
   ],
   "source": [
    "base.info()"
   ]
  },
  {
   "cell_type": "markdown",
   "id": "74583d9a",
   "metadata": {},
   "source": [
    "Пропусков в данных нет. Посмотрим на распределения значений в разных полях датасета base"
   ]
  },
  {
   "cell_type": "code",
   "execution_count": 10,
   "id": "0e394664",
   "metadata": {},
   "outputs": [
    {
     "data": {
      "text/plain": [
       "array([[<AxesSubplot:title={'center':'0'}>,\n",
       "        <AxesSubplot:title={'center':'1'}>,\n",
       "        <AxesSubplot:title={'center':'2'}>,\n",
       "        <AxesSubplot:title={'center':'3'}>,\n",
       "        <AxesSubplot:title={'center':'4'}>,\n",
       "        <AxesSubplot:title={'center':'5'}>,\n",
       "        <AxesSubplot:title={'center':'6'}>,\n",
       "        <AxesSubplot:title={'center':'7'}>],\n",
       "       [<AxesSubplot:title={'center':'8'}>,\n",
       "        <AxesSubplot:title={'center':'9'}>,\n",
       "        <AxesSubplot:title={'center':'10'}>,\n",
       "        <AxesSubplot:title={'center':'11'}>,\n",
       "        <AxesSubplot:title={'center':'12'}>,\n",
       "        <AxesSubplot:title={'center':'13'}>,\n",
       "        <AxesSubplot:title={'center':'14'}>,\n",
       "        <AxesSubplot:title={'center':'15'}>],\n",
       "       [<AxesSubplot:title={'center':'16'}>,\n",
       "        <AxesSubplot:title={'center':'17'}>,\n",
       "        <AxesSubplot:title={'center':'18'}>,\n",
       "        <AxesSubplot:title={'center':'19'}>,\n",
       "        <AxesSubplot:title={'center':'20'}>,\n",
       "        <AxesSubplot:title={'center':'21'}>,\n",
       "        <AxesSubplot:title={'center':'22'}>,\n",
       "        <AxesSubplot:title={'center':'23'}>],\n",
       "       [<AxesSubplot:title={'center':'24'}>,\n",
       "        <AxesSubplot:title={'center':'25'}>,\n",
       "        <AxesSubplot:title={'center':'26'}>,\n",
       "        <AxesSubplot:title={'center':'27'}>,\n",
       "        <AxesSubplot:title={'center':'28'}>,\n",
       "        <AxesSubplot:title={'center':'29'}>,\n",
       "        <AxesSubplot:title={'center':'30'}>,\n",
       "        <AxesSubplot:title={'center':'31'}>],\n",
       "       [<AxesSubplot:title={'center':'32'}>,\n",
       "        <AxesSubplot:title={'center':'33'}>,\n",
       "        <AxesSubplot:title={'center':'34'}>,\n",
       "        <AxesSubplot:title={'center':'35'}>,\n",
       "        <AxesSubplot:title={'center':'36'}>,\n",
       "        <AxesSubplot:title={'center':'37'}>,\n",
       "        <AxesSubplot:title={'center':'38'}>,\n",
       "        <AxesSubplot:title={'center':'39'}>],\n",
       "       [<AxesSubplot:title={'center':'40'}>,\n",
       "        <AxesSubplot:title={'center':'41'}>,\n",
       "        <AxesSubplot:title={'center':'42'}>,\n",
       "        <AxesSubplot:title={'center':'43'}>,\n",
       "        <AxesSubplot:title={'center':'44'}>,\n",
       "        <AxesSubplot:title={'center':'45'}>,\n",
       "        <AxesSubplot:title={'center':'46'}>,\n",
       "        <AxesSubplot:title={'center':'47'}>],\n",
       "       [<AxesSubplot:title={'center':'48'}>,\n",
       "        <AxesSubplot:title={'center':'49'}>,\n",
       "        <AxesSubplot:title={'center':'50'}>,\n",
       "        <AxesSubplot:title={'center':'51'}>,\n",
       "        <AxesSubplot:title={'center':'52'}>,\n",
       "        <AxesSubplot:title={'center':'53'}>,\n",
       "        <AxesSubplot:title={'center':'54'}>,\n",
       "        <AxesSubplot:title={'center':'55'}>],\n",
       "       [<AxesSubplot:title={'center':'56'}>,\n",
       "        <AxesSubplot:title={'center':'57'}>,\n",
       "        <AxesSubplot:title={'center':'58'}>,\n",
       "        <AxesSubplot:title={'center':'59'}>,\n",
       "        <AxesSubplot:title={'center':'60'}>,\n",
       "        <AxesSubplot:title={'center':'61'}>,\n",
       "        <AxesSubplot:title={'center':'62'}>,\n",
       "        <AxesSubplot:title={'center':'63'}>],\n",
       "       [<AxesSubplot:title={'center':'64'}>,\n",
       "        <AxesSubplot:title={'center':'65'}>,\n",
       "        <AxesSubplot:title={'center':'66'}>,\n",
       "        <AxesSubplot:title={'center':'67'}>,\n",
       "        <AxesSubplot:title={'center':'68'}>,\n",
       "        <AxesSubplot:title={'center':'69'}>,\n",
       "        <AxesSubplot:title={'center':'70'}>,\n",
       "        <AxesSubplot:title={'center':'71'}>]], dtype=object)"
      ]
     },
     "execution_count": 10,
     "metadata": {},
     "output_type": "execute_result"
    },
    {
     "data": {
      "image/png": "[encoded data removed]",
      "text/plain": [
       "<Figure size 2160x2160 with 72 Axes>"
      ]
     },
     "metadata": {
      "needs_background": "light"
     },
     "output_type": "display_data"
    }
   ],
   "source": [
    "base.hist(figsize=(30, 30))"
   ]
  },
  {
   "cell_type": "markdown",
   "id": "0b907ba4",
   "metadata": {},
   "source": [
    "Распределение некоторых полей далеко от нормального. Если удалить их из датасета, метрика немного возрастает. Чтрбы встроить удаление полей в Pipeline создадим функцию и класс"
   ]
  },
  {
   "cell_type": "code",
   "execution_count": 11,
   "id": "0e96ade9",
   "metadata": {},
   "outputs": [],
   "source": [
    "def delete_features(df):\n",
    "    df_ = df.drop(['6','21','25','59','65','70'], axis = 1)\n",
    "    return df_"
   ]
  },
  {
   "cell_type": "code",
   "execution_count": 12,
   "id": "e0e6d942",
   "metadata": {},
   "outputs": [],
   "source": [
    "class Preprocessing(BaseEstimator, TransformerMixin):\n",
    "    def __init__(self):\n",
    "        print('')\n",
    "\n",
    "    def fit(self, X, y = None):\n",
    "        return self\n",
    "    def transform(self, X, y = None):\n",
    "        X_ = delete_features(X)\n",
    "        return X_ "
   ]
  },
  {
   "cell_type": "code",
   "execution_count": 13,
   "id": "bb870306",
   "metadata": {},
   "outputs": [],
   "source": [
    "quantile_transformer = QuantileTransformer(output_distribution='normal', random_state=1234)\n"
   ]
  },
  {
   "cell_type": "markdown",
   "id": "c152b7ac",
   "metadata": {},
   "source": [
    "Записываем все преобразования данных в пайплайн и применяем его к base"
   ]
  },
  {
   "cell_type": "code",
   "execution_count": 14,
   "id": "7799c269",
   "metadata": {},
   "outputs": [
    {
     "name": "stdout",
     "output_type": "stream",
     "text": [
      "\n"
     ]
    }
   ],
   "source": [
    "pipeline = Pipeline([\n",
    "    ('preprocessing', Preprocessing()),\n",
    "    ('scale', StandardScaler()),\n",
    "    ('normalize', Normalizer()),\n",
    "    ('quantilize', quantile_transformer)\n",
    "])"
   ]
  },
  {
   "cell_type": "code",
   "execution_count": 15,
   "id": "80f2e58b",
   "metadata": {},
   "outputs": [],
   "source": [
    "base_transformed = pipeline.fit_transform(base)"
   ]
  },
  {
   "cell_type": "markdown",
   "id": "1919531e",
   "metadata": {},
   "source": [
    "Указываем параметры для Faiss"
   ]
  },
  {
   "cell_type": "code",
   "execution_count": 16,
   "id": "0866244b",
   "metadata": {},
   "outputs": [],
   "source": [
    "dims = base_transformed.shape[1]\n",
    "\n",
    "n_cells = 70\n",
    "\n",
    "\n",
    "quantizer = faiss.IndexFlatL2(dims) \n",
    "\n",
    "index = faiss.IndexIVFFlat(quantizer, dims, n_cells, faiss.METRIC_L2)\n"
   ]
  },
  {
   "cell_type": "markdown",
   "id": "20442832",
   "metadata": {},
   "source": [
    "Создаем словарь соответствий числовых и строковых индексов, чтобы потом использовать его в джойнах таблиц"
   ]
  },
  {
   "cell_type": "code",
   "execution_count": 17,
   "id": "20452104",
   "metadata": {},
   "outputs": [],
   "source": [
    "base_index = {k: v for k, v in enumerate(base.index.to_list())}\n",
    "train_index = {v: k for k, v in enumerate(train.index.to_list())}\n",
    "valid_index = {v: k for k, v in enumerate(validation.index.to_list())}"
   ]
  },
  {
   "cell_type": "code",
   "execution_count": 18,
   "id": "d909a0b1",
   "metadata": {},
   "outputs": [],
   "source": [
    "index.train(np.ascontiguousarray(base_transformed))  # train on the database vectors\n",
    "\n",
    "index.add(np.ascontiguousarray(base_transformed))   # add the vectors and update the index"
   ]
  },
  {
   "cell_type": "markdown",
   "id": "77a90025",
   "metadata": {},
   "source": [
    "Для обучающей выборки товаров находим по 80 соседей и смотрим в какой доле случаев товар попал в эти 80"
   ]
  },
  {
   "cell_type": "code",
   "execution_count": 19,
   "id": "04961fff",
   "metadata": {},
   "outputs": [],
   "source": [
    "targets = train[\"Target\"]\n",
    "train.drop(\"Target\", axis=1, inplace=True)\n"
   ]
  },
  {
   "cell_type": "code",
   "execution_count": 20,
   "id": "41bf901a",
   "metadata": {},
   "outputs": [],
   "source": [
    "train_transformed = pipeline.transform(train)"
   ]
  },
  {
   "cell_type": "code",
   "execution_count": 21,
   "id": "ebbc0e14",
   "metadata": {
    "scrolled": true
   },
   "outputs": [],
   "source": [
    "r, idx = index.search(np.ascontiguousarray(train_transformed).astype('float32'), 80)"
   ]
  },
  {
   "cell_type": "code",
   "execution_count": 22,
   "id": "00b61cda",
   "metadata": {},
   "outputs": [
    {
     "name": "stdout",
     "output_type": "stream",
     "text": [
      "0.66565\n"
     ]
    }
   ],
   "source": [
    "acc = 0\n",
    "for target, el in zip(targets.values.tolist(), idx.tolist()):\n",
    "    acc += int(target in [base_index[r] for r in el])\n",
    "\n",
    "print(acc / len(idx))"
   ]
  },
  {
   "cell_type": "markdown",
   "id": "5c4f135a",
   "metadata": {},
   "source": [
    "Получаем результат 66,5%"
   ]
  },
  {
   "cell_type": "markdown",
   "id": "be72d88e",
   "metadata": {},
   "source": [
    "Теперь нам нужно создать таблицу, которая включала бы все признаки товара из выборки train, все признаки ближайших соседей соответствующего товара и целевой признак - является ли выбранный сосед рекомендованным экспертами. Для этих преобразований создадим функцию"
   ]
  },
  {
   "cell_type": "code",
   "execution_count": 23,
   "id": "8a1ec698",
   "metadata": {},
   "outputs": [],
   "source": [
    "def make_dataframe(base, base_index, idx, targets, train, train_index):\n",
    "    idx_df = pd.DataFrame(index = targets.index, data = idx)\n",
    "    idx_cols = idx_df.columns\n",
    "    idx_df.reset_index(inplace = True)\n",
    "#Делаем таблицу формата id запроса (query id) - индекс соседа\n",
    "    idx_df_flat = pd.melt(idx_df, id_vars=['Id'], value_vars=idx_cols)\n",
    "    idx_df_flat.drop(columns = ['variable'], inplace = True)\n",
    "#превращаем np.array обратно в df\n",
    "    base = pd.DataFrame(index = base_index, columns = [str(i) for i in range(66)], data = base)\n",
    "    train = pd.DataFrame(index = list(train_index.values()), columns = [str(i) for i in range(66)], data = train)\n",
    "#Присоединяем все признаки найденных соседей\n",
    "    idx_x_base = idx_df_flat.merge(base, left_on = 'value', right_index = True)\n",
    "#Джойним индекс рекомендованного товара\n",
    "    idx_base_target = idx_x_base.merge(targets, left_on = 'Id', right_index = True)\n",
    "    idx_base_target['value'] = idx_base_target['value'].apply(lambda x: base_index[x])\n",
    "    idx_base_target['target_new'] = 0\n",
    "#Проставляем целевой признак\n",
    "    idx_base_target.loc[idx_base_target['value'] == idx_base_target['Target'], 'target_new'] = 1\n",
    "    idx_base_target['Id'] = idx_base_target['Id'].apply(lambda x: train_index[x])\n",
    "    idx_base_target.drop(columns = ['value','Target'], inplace = True)\n",
    "#Собираем финальную таблицу   \n",
    "    new_df = train.merge(idx_base_target, left_index = True, right_on = 'Id')\n",
    "    return new_df"
   ]
  },
  {
   "cell_type": "code",
   "execution_count": 24,
   "id": "22c816d0",
   "metadata": {
    "scrolled": true
   },
   "outputs": [],
   "source": [
    "new_df = make_dataframe(base_transformed, base_index, idx, targets,  train_transformed, train_index)"
   ]
  },
  {
   "cell_type": "code",
   "execution_count": 25,
   "id": "b19312f3",
   "metadata": {},
   "outputs": [],
   "source": [
    "pd.set_option('display.max_seq_items', 150)"
   ]
  },
  {
   "cell_type": "code",
   "execution_count": 26,
   "id": "8e2cb186",
   "metadata": {},
   "outputs": [
    {
     "data": {
      "text/plain": [
       "8640000000"
      ]
     },
     "execution_count": 26,
     "metadata": {},
     "output_type": "execute_result"
    }
   ],
   "source": [
    "new_df.memory_usage().sum()"
   ]
  },
  {
   "cell_type": "markdown",
   "id": "7d92edeb",
   "metadata": {},
   "source": [
    "Выделяем features и target"
   ]
  },
  {
   "cell_type": "code",
   "execution_count": 27,
   "id": "20d3799b",
   "metadata": {},
   "outputs": [],
   "source": [
    "X = new_df.drop(['target_new', 'Id'], axis = 1)\n",
    "y = new_df['target_new']"
   ]
  },
  {
   "cell_type": "code",
   "execution_count": 28,
   "id": "5688eb02",
   "metadata": {},
   "outputs": [],
   "source": [
    "#Initialize CatBoostClassifier\n",
    "#model = CatBoostClassifier(eval_metric='AUC',\n",
    "#                            iterations=100,\n",
    "#                           learning_rate=0.1,\n",
    "#                           depth=10)\n",
    "                         "
   ]
  },
  {
   "cell_type": "code",
   "execution_count": 29,
   "id": "52f000fc",
   "metadata": {},
   "outputs": [],
   "source": [
    "#X_train, X_test, y_train, y_test = X.iloc[:5250000], X.iloc[5250000:], y.iloc[:5250000], y.iloc[5250000:]"
   ]
  },
  {
   "cell_type": "code",
   "execution_count": 30,
   "id": "eb320fcb",
   "metadata": {},
   "outputs": [],
   "source": [
    "#model.fit(X_train, y_train,\n",
    "#         eval_set=(X_test, y_test),\n",
    "#          verbose=True\n",
    "#)"
   ]
  },
  {
   "cell_type": "markdown",
   "id": "3bfe56c9",
   "metadata": {},
   "source": [
    "Подбираем гиперпараметры"
   ]
  },
  {
   "cell_type": "code",
   "execution_count": 31,
   "id": "544628c5",
   "metadata": {},
   "outputs": [],
   "source": [
    "#model = CatBoostClassifier(eval_metric='AUC')\n",
    "#grid_search_res = model.grid_search({'iterations': [150],\n",
    "#              'learning_rate': [0.1, 0.5, 1],\n",
    "#              'l2_leaf_reg' : [5,7],\n",
    "#              'depth': [10],\n",
    "#              'verbose':[100]\n",
    "#             }\n",
    "#,\n",
    "#            X,\n",
    "#            y,\n",
    "#            cv=3,\n",
    "#            partition_random_seed=42,\n",
    "#            calc_cv_statistics=True,\n",
    "#            search_by_train_test_split=True,\n",
    "#            refit=True,\n",
    "#            shuffle=True,\n",
    "#            stratified=None,\n",
    "#            train_size=0.8,\n",
    "#            verbose=True,\n",
    "#            plot=False,\n",
    "#)\n",
    "#\n",
    "#print(grid_search_res)"
   ]
  },
  {
   "cell_type": "code",
   "execution_count": 32,
   "id": "46108053",
   "metadata": {},
   "outputs": [],
   "source": [
    "#grid_search_res['params']"
   ]
  },
  {
   "cell_type": "markdown",
   "id": "08ef5d50",
   "metadata": {},
   "source": [
    "Модель с подобранными гиперпараметрами обучаем на полных данных выборки train"
   ]
  },
  {
   "cell_type": "code",
   "execution_count": 33,
   "id": "8d81679d",
   "metadata": {},
   "outputs": [],
   "source": [
    "best_model = CatBoostClassifier(\n",
    "    eval_metric='AUC',\n",
    "    iterations=150,\n",
    "    learning_rate=0.5,\n",
    "    depth=10,\n",
    "    l2_leaf_reg = 5\n",
    ")\n",
    "                         "
   ]
  },
  {
   "cell_type": "code",
   "execution_count": 34,
   "id": "6cf86b9f",
   "metadata": {},
   "outputs": [
    {
     "name": "stdout",
     "output_type": "stream",
     "text": [
      "0:\ttotal: 3.39s\tremaining: 8m 25s\n",
      "1:\ttotal: 6.63s\tremaining: 8m 10s\n",
      "2:\ttotal: 9.71s\tremaining: 7m 55s\n",
      "3:\ttotal: 12.6s\tremaining: 7m 38s\n",
      "4:\ttotal: 15.6s\tremaining: 7m 31s\n",
      "5:\ttotal: 18.7s\tremaining: 7m 28s\n",
      "6:\ttotal: 21.7s\tremaining: 7m 23s\n",
      "7:\ttotal: 24.9s\tremaining: 7m 21s\n",
      "8:\ttotal: 28s\tremaining: 7m 18s\n",
      "9:\ttotal: 31.2s\tremaining: 7m 16s\n",
      "10:\ttotal: 34.2s\tremaining: 7m 12s\n",
      "11:\ttotal: 37.4s\tremaining: 7m 9s\n",
      "12:\ttotal: 40.5s\tremaining: 7m 7s\n",
      "13:\ttotal: 43.4s\tremaining: 7m 2s\n",
      "14:\ttotal: 46.6s\tremaining: 6m 58s\n",
      "15:\ttotal: 49.6s\tremaining: 6m 55s\n",
      "16:\ttotal: 52.8s\tremaining: 6m 53s\n",
      "17:\ttotal: 55.9s\tremaining: 6m 49s\n",
      "18:\ttotal: 59.3s\tremaining: 6m 48s\n",
      "19:\ttotal: 1m 2s\tremaining: 6m 46s\n",
      "20:\ttotal: 1m 5s\tremaining: 6m 43s\n",
      "21:\ttotal: 1m 8s\tremaining: 6m 40s\n",
      "22:\ttotal: 1m 11s\tremaining: 6m 37s\n",
      "23:\ttotal: 1m 15s\tremaining: 6m 34s\n",
      "24:\ttotal: 1m 18s\tremaining: 6m 31s\n",
      "25:\ttotal: 1m 21s\tremaining: 6m 28s\n",
      "26:\ttotal: 1m 24s\tremaining: 6m 25s\n",
      "27:\ttotal: 1m 27s\tremaining: 6m 22s\n",
      "28:\ttotal: 1m 30s\tremaining: 6m 19s\n",
      "29:\ttotal: 1m 34s\tremaining: 6m 16s\n",
      "30:\ttotal: 1m 37s\tremaining: 6m 13s\n",
      "31:\ttotal: 1m 40s\tremaining: 6m 9s\n",
      "32:\ttotal: 1m 43s\tremaining: 6m 5s\n",
      "33:\ttotal: 1m 46s\tremaining: 6m 2s\n",
      "34:\ttotal: 1m 49s\tremaining: 5m 58s\n",
      "35:\ttotal: 1m 52s\tremaining: 5m 54s\n",
      "36:\ttotal: 1m 55s\tremaining: 5m 51s\n",
      "37:\ttotal: 1m 58s\tremaining: 5m 48s\n",
      "38:\ttotal: 2m 1s\tremaining: 5m 45s\n",
      "39:\ttotal: 2m 4s\tremaining: 5m 43s\n",
      "40:\ttotal: 2m 7s\tremaining: 5m 39s\n",
      "41:\ttotal: 2m 10s\tremaining: 5m 36s\n",
      "42:\ttotal: 2m 13s\tremaining: 5m 33s\n",
      "43:\ttotal: 2m 16s\tremaining: 5m 29s\n",
      "44:\ttotal: 2m 19s\tremaining: 5m 26s\n",
      "45:\ttotal: 2m 23s\tremaining: 5m 23s\n",
      "46:\ttotal: 2m 26s\tremaining: 5m 20s\n",
      "47:\ttotal: 2m 29s\tremaining: 5m 17s\n",
      "48:\ttotal: 2m 32s\tremaining: 5m 14s\n",
      "49:\ttotal: 2m 35s\tremaining: 5m 11s\n",
      "50:\ttotal: 2m 38s\tremaining: 5m 8s\n",
      "51:\ttotal: 2m 42s\tremaining: 5m 5s\n",
      "52:\ttotal: 2m 45s\tremaining: 5m 2s\n",
      "53:\ttotal: 2m 48s\tremaining: 4m 59s\n",
      "54:\ttotal: 2m 51s\tremaining: 4m 56s\n",
      "55:\ttotal: 2m 54s\tremaining: 4m 52s\n",
      "56:\ttotal: 2m 57s\tremaining: 4m 49s\n",
      "57:\ttotal: 3m\tremaining: 4m 46s\n",
      "58:\ttotal: 3m 3s\tremaining: 4m 43s\n",
      "59:\ttotal: 3m 7s\tremaining: 4m 40s\n",
      "60:\ttotal: 3m 10s\tremaining: 4m 37s\n",
      "61:\ttotal: 3m 13s\tremaining: 4m 34s\n",
      "62:\ttotal: 3m 16s\tremaining: 4m 31s\n",
      "63:\ttotal: 3m 19s\tremaining: 4m 27s\n",
      "64:\ttotal: 3m 22s\tremaining: 4m 24s\n",
      "65:\ttotal: 3m 25s\tremaining: 4m 21s\n",
      "66:\ttotal: 3m 28s\tremaining: 4m 18s\n",
      "67:\ttotal: 3m 31s\tremaining: 4m 14s\n",
      "68:\ttotal: 3m 34s\tremaining: 4m 11s\n",
      "69:\ttotal: 3m 37s\tremaining: 4m 8s\n",
      "70:\ttotal: 3m 40s\tremaining: 4m 5s\n",
      "71:\ttotal: 3m 43s\tremaining: 4m 1s\n",
      "72:\ttotal: 3m 46s\tremaining: 3m 58s\n",
      "73:\ttotal: 3m 49s\tremaining: 3m 55s\n",
      "74:\ttotal: 3m 52s\tremaining: 3m 52s\n",
      "75:\ttotal: 3m 55s\tremaining: 3m 49s\n",
      "76:\ttotal: 3m 59s\tremaining: 3m 46s\n",
      "77:\ttotal: 4m 2s\tremaining: 3m 43s\n",
      "78:\ttotal: 4m 5s\tremaining: 3m 40s\n",
      "79:\ttotal: 4m 8s\tremaining: 3m 37s\n",
      "80:\ttotal: 4m 11s\tremaining: 3m 34s\n",
      "81:\ttotal: 4m 14s\tremaining: 3m 31s\n",
      "82:\ttotal: 4m 17s\tremaining: 3m 28s\n",
      "83:\ttotal: 4m 20s\tremaining: 3m 24s\n",
      "84:\ttotal: 4m 23s\tremaining: 3m 21s\n",
      "85:\ttotal: 4m 26s\tremaining: 3m 18s\n",
      "86:\ttotal: 4m 29s\tremaining: 3m 15s\n",
      "87:\ttotal: 4m 32s\tremaining: 3m 12s\n",
      "88:\ttotal: 4m 35s\tremaining: 3m 8s\n",
      "89:\ttotal: 4m 38s\tremaining: 3m 5s\n",
      "90:\ttotal: 4m 41s\tremaining: 3m 2s\n",
      "91:\ttotal: 4m 45s\tremaining: 2m 59s\n",
      "92:\ttotal: 4m 48s\tremaining: 2m 56s\n",
      "93:\ttotal: 4m 51s\tremaining: 2m 53s\n",
      "94:\ttotal: 4m 54s\tremaining: 2m 50s\n",
      "95:\ttotal: 4m 57s\tremaining: 2m 47s\n",
      "96:\ttotal: 5m\tremaining: 2m 44s\n",
      "97:\ttotal: 5m 3s\tremaining: 2m 41s\n",
      "98:\ttotal: 5m 7s\tremaining: 2m 38s\n",
      "99:\ttotal: 5m 10s\tremaining: 2m 35s\n",
      "100:\ttotal: 5m 13s\tremaining: 2m 31s\n",
      "101:\ttotal: 5m 16s\tremaining: 2m 28s\n",
      "102:\ttotal: 5m 19s\tremaining: 2m 25s\n",
      "103:\ttotal: 5m 22s\tremaining: 2m 22s\n",
      "104:\ttotal: 5m 25s\tremaining: 2m 19s\n",
      "105:\ttotal: 5m 28s\tremaining: 2m 16s\n",
      "106:\ttotal: 5m 31s\tremaining: 2m 13s\n",
      "107:\ttotal: 5m 34s\tremaining: 2m 10s\n",
      "108:\ttotal: 5m 37s\tremaining: 2m 6s\n",
      "109:\ttotal: 5m 40s\tremaining: 2m 3s\n",
      "110:\ttotal: 5m 43s\tremaining: 2m\n",
      "111:\ttotal: 5m 46s\tremaining: 1m 57s\n",
      "112:\ttotal: 5m 49s\tremaining: 1m 54s\n",
      "113:\ttotal: 5m 52s\tremaining: 1m 51s\n",
      "114:\ttotal: 5m 55s\tremaining: 1m 48s\n",
      "115:\ttotal: 5m 59s\tremaining: 1m 45s\n",
      "116:\ttotal: 6m 2s\tremaining: 1m 42s\n",
      "117:\ttotal: 6m 5s\tremaining: 1m 39s\n",
      "118:\ttotal: 6m 8s\tremaining: 1m 35s\n",
      "119:\ttotal: 6m 11s\tremaining: 1m 32s\n",
      "120:\ttotal: 6m 14s\tremaining: 1m 29s\n",
      "121:\ttotal: 6m 18s\tremaining: 1m 26s\n",
      "122:\ttotal: 6m 21s\tremaining: 1m 23s\n",
      "123:\ttotal: 6m 24s\tremaining: 1m 20s\n",
      "124:\ttotal: 6m 27s\tremaining: 1m 17s\n",
      "125:\ttotal: 6m 30s\tremaining: 1m 14s\n",
      "126:\ttotal: 6m 33s\tremaining: 1m 11s\n",
      "127:\ttotal: 6m 36s\tremaining: 1m 8s\n",
      "128:\ttotal: 6m 39s\tremaining: 1m 5s\n",
      "129:\ttotal: 6m 43s\tremaining: 1m 2s\n",
      "130:\ttotal: 6m 46s\tremaining: 58.9s\n",
      "131:\ttotal: 6m 49s\tremaining: 55.8s\n",
      "132:\ttotal: 6m 52s\tremaining: 52.7s\n",
      "133:\ttotal: 6m 56s\tremaining: 49.7s\n",
      "134:\ttotal: 7m\tremaining: 46.7s\n",
      "135:\ttotal: 7m 3s\tremaining: 43.6s\n",
      "136:\ttotal: 11m 52s\tremaining: 1m 7s\n",
      "137:\ttotal: 11m 56s\tremaining: 1m 2s\n",
      "138:\ttotal: 11m 59s\tremaining: 57s\n",
      "139:\ttotal: 12m 3s\tremaining: 51.7s\n",
      "140:\ttotal: 12m 6s\tremaining: 46.4s\n",
      "141:\ttotal: 12m 10s\tremaining: 41.1s\n",
      "142:\ttotal: 12m 14s\tremaining: 35.9s\n",
      "143:\ttotal: 12m 17s\tremaining: 30.7s\n",
      "144:\ttotal: 12m 20s\tremaining: 25.6s\n",
      "145:\ttotal: 12m 24s\tremaining: 20.4s\n",
      "146:\ttotal: 12m 28s\tremaining: 15.3s\n",
      "147:\ttotal: 12m 32s\tremaining: 10.2s\n",
      "148:\ttotal: 12m 35s\tremaining: 5.07s\n",
      "149:\ttotal: 12m 38s\tremaining: 0us\n"
     ]
    },
    {
     "data": {
      "text/plain": [
       "<catboost.core.CatBoostClassifier at 0x7fe33f0b17c0>"
      ]
     },
     "execution_count": 34,
     "metadata": {},
     "output_type": "execute_result"
    }
   ],
   "source": [
    "best_model.fit(X, y)"
   ]
  },
  {
   "cell_type": "code",
   "execution_count": 35,
   "id": "f6b652c9",
   "metadata": {},
   "outputs": [],
   "source": [
    "#probabilities_one = model.predict_proba(X_test)[:,1]\n",
    "#y_test_compare = y_test.copy().to_frame()\n",
    "#id_map = new_df['Id'].to_frame()\n",
    "#y_test_compare = y_test_compare.merge(id_map, left_index = True, right_index = True)\n",
    "#y_test_compare['predicted'] = probabilities_one\n",
    "#N = 5\n",
    "#msk = y_test_compare.groupby('Id')['predicted'].rank(method='first', ascending=False) <= N\n",
    "#df_filtered = y_test_compare.loc[msk, :]\n",
    "#df_filtered['target_new'].sum()/df_filtered['Id'].unique().shape[0]"
   ]
  },
  {
   "cell_type": "markdown",
   "id": "758cc97f",
   "metadata": {},
   "source": [
    "## Проверим на тестовых данных"
   ]
  },
  {
   "cell_type": "code",
   "execution_count": 36,
   "id": "64ffec72",
   "metadata": {},
   "outputs": [
    {
     "data": {
      "text/html": [
       "<div>\n",
       "<style scoped>\n",
       "    .dataframe tbody tr th:only-of-type {\n",
       "        vertical-align: middle;\n",
       "    }\n",
       "\n",
       "    .dataframe tbody tr th {\n",
       "        vertical-align: top;\n",
       "    }\n",
       "\n",
       "    .dataframe thead th {\n",
       "        text-align: right;\n",
       "    }\n",
       "</style>\n",
       "<table border=\"1\" class=\"dataframe\">\n",
       "  <thead>\n",
       "    <tr style=\"text-align: right;\">\n",
       "      <th></th>\n",
       "      <th>0</th>\n",
       "      <th>1</th>\n",
       "      <th>2</th>\n",
       "      <th>3</th>\n",
       "      <th>4</th>\n",
       "      <th>5</th>\n",
       "      <th>6</th>\n",
       "      <th>7</th>\n",
       "      <th>8</th>\n",
       "      <th>9</th>\n",
       "      <th>...</th>\n",
       "      <th>62</th>\n",
       "      <th>63</th>\n",
       "      <th>64</th>\n",
       "      <th>65</th>\n",
       "      <th>66</th>\n",
       "      <th>67</th>\n",
       "      <th>68</th>\n",
       "      <th>69</th>\n",
       "      <th>70</th>\n",
       "      <th>71</th>\n",
       "    </tr>\n",
       "    <tr>\n",
       "      <th>Id</th>\n",
       "      <th></th>\n",
       "      <th></th>\n",
       "      <th></th>\n",
       "      <th></th>\n",
       "      <th></th>\n",
       "      <th></th>\n",
       "      <th></th>\n",
       "      <th></th>\n",
       "      <th></th>\n",
       "      <th></th>\n",
       "      <th></th>\n",
       "      <th></th>\n",
       "      <th></th>\n",
       "      <th></th>\n",
       "      <th></th>\n",
       "      <th></th>\n",
       "      <th></th>\n",
       "      <th></th>\n",
       "      <th></th>\n",
       "      <th></th>\n",
       "      <th></th>\n",
       "    </tr>\n",
       "  </thead>\n",
       "  <tbody>\n",
       "    <tr>\n",
       "      <th>100000-query</th>\n",
       "      <td>-57.372734</td>\n",
       "      <td>3.597752</td>\n",
       "      <td>-13.213642</td>\n",
       "      <td>-125.92679</td>\n",
       "      <td>110.74594</td>\n",
       "      <td>-81.279594</td>\n",
       "      <td>-461.003172</td>\n",
       "      <td>139.815720</td>\n",
       "      <td>112.880980</td>\n",
       "      <td>75.215750</td>\n",
       "      <td>...</td>\n",
       "      <td>-75.51302</td>\n",
       "      <td>52.830902</td>\n",
       "      <td>-143.43945</td>\n",
       "      <td>59.051935</td>\n",
       "      <td>69.28224</td>\n",
       "      <td>61.927513</td>\n",
       "      <td>111.59253</td>\n",
       "      <td>115.140656</td>\n",
       "      <td>-1099.130485</td>\n",
       "      <td>-117.079360</td>\n",
       "    </tr>\n",
       "    <tr>\n",
       "      <th>100001-query</th>\n",
       "      <td>-53.758705</td>\n",
       "      <td>12.790300</td>\n",
       "      <td>-43.268543</td>\n",
       "      <td>-134.41762</td>\n",
       "      <td>114.44991</td>\n",
       "      <td>-90.520130</td>\n",
       "      <td>-759.626065</td>\n",
       "      <td>63.995087</td>\n",
       "      <td>127.117905</td>\n",
       "      <td>53.128998</td>\n",
       "      <td>...</td>\n",
       "      <td>-79.44183</td>\n",
       "      <td>29.185436</td>\n",
       "      <td>-168.60590</td>\n",
       "      <td>-82.872443</td>\n",
       "      <td>70.76560</td>\n",
       "      <td>-65.975950</td>\n",
       "      <td>97.07716</td>\n",
       "      <td>123.391640</td>\n",
       "      <td>-744.442332</td>\n",
       "      <td>-25.009320</td>\n",
       "    </tr>\n",
       "    <tr>\n",
       "      <th>100002-query</th>\n",
       "      <td>-64.175095</td>\n",
       "      <td>-3.980927</td>\n",
       "      <td>-7.679249</td>\n",
       "      <td>-170.16093</td>\n",
       "      <td>96.44616</td>\n",
       "      <td>-62.377740</td>\n",
       "      <td>-759.626065</td>\n",
       "      <td>87.477554</td>\n",
       "      <td>131.270110</td>\n",
       "      <td>168.920320</td>\n",
       "      <td>...</td>\n",
       "      <td>-134.79541</td>\n",
       "      <td>37.368730</td>\n",
       "      <td>-159.66231</td>\n",
       "      <td>-119.232725</td>\n",
       "      <td>67.71044</td>\n",
       "      <td>86.002060</td>\n",
       "      <td>137.63641</td>\n",
       "      <td>141.081630</td>\n",
       "      <td>-294.052271</td>\n",
       "      <td>-70.969604</td>\n",
       "    </tr>\n",
       "    <tr>\n",
       "      <th>100003-query</th>\n",
       "      <td>-99.286860</td>\n",
       "      <td>16.123936</td>\n",
       "      <td>9.837166</td>\n",
       "      <td>-148.06044</td>\n",
       "      <td>83.69708</td>\n",
       "      <td>-133.729720</td>\n",
       "      <td>58.576403</td>\n",
       "      <td>-19.046660</td>\n",
       "      <td>115.042404</td>\n",
       "      <td>75.206730</td>\n",
       "      <td>...</td>\n",
       "      <td>-77.23611</td>\n",
       "      <td>44.100494</td>\n",
       "      <td>-132.53012</td>\n",
       "      <td>-106.318982</td>\n",
       "      <td>70.88396</td>\n",
       "      <td>23.577892</td>\n",
       "      <td>133.18396</td>\n",
       "      <td>143.252940</td>\n",
       "      <td>-799.363667</td>\n",
       "      <td>-89.392670</td>\n",
       "    </tr>\n",
       "    <tr>\n",
       "      <th>100004-query</th>\n",
       "      <td>-79.532920</td>\n",
       "      <td>-0.364173</td>\n",
       "      <td>-16.027431</td>\n",
       "      <td>-170.88495</td>\n",
       "      <td>165.45392</td>\n",
       "      <td>-28.291668</td>\n",
       "      <td>33.931936</td>\n",
       "      <td>34.411217</td>\n",
       "      <td>128.903980</td>\n",
       "      <td>102.086914</td>\n",
       "      <td>...</td>\n",
       "      <td>-123.77025</td>\n",
       "      <td>45.635944</td>\n",
       "      <td>-134.25893</td>\n",
       "      <td>13.735359</td>\n",
       "      <td>70.61763</td>\n",
       "      <td>15.332115</td>\n",
       "      <td>154.56812</td>\n",
       "      <td>101.700640</td>\n",
       "      <td>-1171.892332</td>\n",
       "      <td>-125.307890</td>\n",
       "    </tr>\n",
       "  </tbody>\n",
       "</table>\n",
       "<p>5 rows × 72 columns</p>\n",
       "</div>"
      ],
      "text/plain": [
       "                      0          1          2          3          4  \\\n",
       "Id                                                                    \n",
       "100000-query -57.372734   3.597752 -13.213642 -125.92679  110.74594   \n",
       "100001-query -53.758705  12.790300 -43.268543 -134.41762  114.44991   \n",
       "100002-query -64.175095  -3.980927  -7.679249 -170.16093   96.44616   \n",
       "100003-query -99.286860  16.123936   9.837166 -148.06044   83.69708   \n",
       "100004-query -79.532920  -0.364173 -16.027431 -170.88495  165.45392   \n",
       "\n",
       "                       5           6           7           8           9  ...  \\\n",
       "Id                                                                        ...   \n",
       "100000-query  -81.279594 -461.003172  139.815720  112.880980   75.215750  ...   \n",
       "100001-query  -90.520130 -759.626065   63.995087  127.117905   53.128998  ...   \n",
       "100002-query  -62.377740 -759.626065   87.477554  131.270110  168.920320  ...   \n",
       "100003-query -133.729720   58.576403  -19.046660  115.042404   75.206730  ...   \n",
       "100004-query  -28.291668   33.931936   34.411217  128.903980  102.086914  ...   \n",
       "\n",
       "                     62         63         64          65        66  \\\n",
       "Id                                                                    \n",
       "100000-query  -75.51302  52.830902 -143.43945   59.051935  69.28224   \n",
       "100001-query  -79.44183  29.185436 -168.60590  -82.872443  70.76560   \n",
       "100002-query -134.79541  37.368730 -159.66231 -119.232725  67.71044   \n",
       "100003-query  -77.23611  44.100494 -132.53012 -106.318982  70.88396   \n",
       "100004-query -123.77025  45.635944 -134.25893   13.735359  70.61763   \n",
       "\n",
       "                     67         68          69           70          71  \n",
       "Id                                                                       \n",
       "100000-query  61.927513  111.59253  115.140656 -1099.130485 -117.079360  \n",
       "100001-query -65.975950   97.07716  123.391640  -744.442332  -25.009320  \n",
       "100002-query  86.002060  137.63641  141.081630  -294.052271  -70.969604  \n",
       "100003-query  23.577892  133.18396  143.252940  -799.363667  -89.392670  \n",
       "100004-query  15.332115  154.56812  101.700640 -1171.892332 -125.307890  \n",
       "\n",
       "[5 rows x 72 columns]"
      ]
     },
     "execution_count": 36,
     "metadata": {},
     "output_type": "execute_result"
    }
   ],
   "source": [
    "validation.head()"
   ]
  },
  {
   "cell_type": "code",
   "execution_count": 37,
   "id": "1de0799f",
   "metadata": {},
   "outputs": [
    {
     "data": {
      "text/html": [
       "<div>\n",
       "<style scoped>\n",
       "    .dataframe tbody tr th:only-of-type {\n",
       "        vertical-align: middle;\n",
       "    }\n",
       "\n",
       "    .dataframe tbody tr th {\n",
       "        vertical-align: top;\n",
       "    }\n",
       "\n",
       "    .dataframe thead th {\n",
       "        text-align: right;\n",
       "    }\n",
       "</style>\n",
       "<table border=\"1\" class=\"dataframe\">\n",
       "  <thead>\n",
       "    <tr style=\"text-align: right;\">\n",
       "      <th></th>\n",
       "      <th>Id</th>\n",
       "      <th>Expected</th>\n",
       "    </tr>\n",
       "  </thead>\n",
       "  <tbody>\n",
       "    <tr>\n",
       "      <th>0</th>\n",
       "      <td>100000-query</td>\n",
       "      <td>2676668-base</td>\n",
       "    </tr>\n",
       "    <tr>\n",
       "      <th>1</th>\n",
       "      <td>100001-query</td>\n",
       "      <td>91606-base</td>\n",
       "    </tr>\n",
       "    <tr>\n",
       "      <th>2</th>\n",
       "      <td>100002-query</td>\n",
       "      <td>472256-base</td>\n",
       "    </tr>\n",
       "    <tr>\n",
       "      <th>3</th>\n",
       "      <td>100003-query</td>\n",
       "      <td>3168654-base</td>\n",
       "    </tr>\n",
       "    <tr>\n",
       "      <th>4</th>\n",
       "      <td>100004-query</td>\n",
       "      <td>75484-base</td>\n",
       "    </tr>\n",
       "  </tbody>\n",
       "</table>\n",
       "</div>"
      ],
      "text/plain": [
       "             Id      Expected\n",
       "0  100000-query  2676668-base\n",
       "1  100001-query    91606-base\n",
       "2  100002-query   472256-base\n",
       "3  100003-query  3168654-base\n",
       "4  100004-query    75484-base"
      ]
     },
     "execution_count": 37,
     "metadata": {},
     "output_type": "execute_result"
    }
   ],
   "source": [
    "validation_answer.head()"
   ]
  },
  {
   "cell_type": "markdown",
   "id": "d2c92feb",
   "metadata": {},
   "source": [
    "Приводим validation_answer к формату, который соответствует таблице Targets, которую использовали для обучающей выборки"
   ]
  },
  {
   "cell_type": "code",
   "execution_count": 38,
   "id": "fb4fda7e",
   "metadata": {
    "scrolled": true
   },
   "outputs": [],
   "source": [
    "validation_answer = validation_answer.set_index('Id')\n",
    "validation_answer = validation_answer['Expected']\n",
    "validation_answer.name = 'Target'"
   ]
  },
  {
   "cell_type": "markdown",
   "id": "100bdef7",
   "metadata": {},
   "source": [
    "Применяем преобразования"
   ]
  },
  {
   "cell_type": "code",
   "execution_count": 39,
   "id": "5a56e1ba",
   "metadata": {},
   "outputs": [],
   "source": [
    "validation_transformed = pipeline.transform(validation)"
   ]
  },
  {
   "cell_type": "markdown",
   "id": "9bef00d1",
   "metadata": {},
   "source": [
    "Ищем по 80 соседей"
   ]
  },
  {
   "cell_type": "code",
   "execution_count": 41,
   "id": "f77a3831",
   "metadata": {},
   "outputs": [],
   "source": [
    "r_t, idx_t = index.search(np.ascontiguousarray(validation_transformed).astype('float32'), 70)"
   ]
  },
  {
   "cell_type": "code",
   "execution_count": 42,
   "id": "d3375efc",
   "metadata": {},
   "outputs": [
    {
     "name": "stdout",
     "output_type": "stream",
     "text": [
      "0.66036\n"
     ]
    }
   ],
   "source": [
    "acc = 0\n",
    "for target, el in zip(validation_answer.tolist(), idx_t.tolist()):\n",
    "    acc += int(target in [base_index[r] for r in el])\n",
    "\n",
    "print(acc / len(idx_t))"
   ]
  },
  {
   "cell_type": "markdown",
   "id": "d9c3353a",
   "metadata": {},
   "source": [
    "Faiss дает результат 66 процентов. Близко к тому, что получали на обучающей выборке.\n",
    "\n",
    "Теперь создадим таблицу, которую будем использовать для задачи классификации"
   ]
  },
  {
   "cell_type": "code",
   "execution_count": 43,
   "id": "0f76314b",
   "metadata": {},
   "outputs": [],
   "source": [
    "new_df_t = make_dataframe(base_transformed, base_index, idx_t, validation_answer, validation_transformed, valid_index)"
   ]
  },
  {
   "cell_type": "code",
   "execution_count": 44,
   "id": "9a23c2a1",
   "metadata": {},
   "outputs": [],
   "source": [
    "X_t = new_df_t.drop(['target_new', 'Id'], axis = 1)\n",
    "y_t = new_df_t['target_new']"
   ]
  },
  {
   "cell_type": "markdown",
   "id": "f52e3f09",
   "metadata": {},
   "source": [
    "Для подсчета accuracy@5 для каждого запроса возьмем 5 соседей, для которых по результатам предсказаний максимальна вероятность, что целевой признак равен 1. И проверим в какой доле случаев верный по мнению экспертов ответ попал в число этих пяти"
   ]
  },
  {
   "cell_type": "code",
   "execution_count": 45,
   "id": "9dbc83ab",
   "metadata": {},
   "outputs": [
    {
     "data": {
      "text/plain": [
       "0.59313"
      ]
     },
     "execution_count": 45,
     "metadata": {},
     "output_type": "execute_result"
    }
   ],
   "source": [
    "probabilities_one = best_model.predict_proba(X_t)[:,1]\n",
    "y_test_compare = y_t.copy().to_frame()\n",
    "id_map = new_df['Id'].to_frame()\n",
    "y_test_compare = y_test_compare.merge(id_map, left_index = True, right_index = True)\n",
    "y_test_compare['predicted'] = probabilities_one\n",
    "N = 5\n",
    "msk = y_test_compare.groupby('Id')['predicted'].rank(method='first', ascending=False) <= N\n",
    "df_filtered = y_test_compare.loc[msk, :]\n",
    "df_filtered['target_new'].sum()/df_filtered['Id'].unique().shape[0]"
   ]
  },
  {
   "cell_type": "markdown",
   "id": "a001c2c6",
   "metadata": {},
   "source": [
    "Получаем результат 59,3 %"
   ]
  }
 ],
 "metadata": {
  "kernelspec": {
   "display_name": "Python 3",
   "language": "python",
   "name": "python3"
  }
 },
 "nbformat": 4,
 "nbformat_minor": 5
}
